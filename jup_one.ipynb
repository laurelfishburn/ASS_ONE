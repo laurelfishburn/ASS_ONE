{
 "cells": [
  {
   "cell_type": "markdown",
   "metadata": {},
   "source": [
    "**Problem 2**\n",
    "\n",
    "Given a list: \n",
    "\n",
    "list_a = [3, 4, 6, 10, 39, 87, 12, 54]\n",
    "\n",
    "(a) Find the maximum, minimum, and summation number of the list.\n",
    "\n",
    "(b) Sort the list in ascending order\n",
    "\n",
    "(c) Write a for loop to print each element in list_a"
   ]
  },
  {
   "cell_type": "markdown",
   "metadata": {},
   "source": [
    "**part a:**"
   ]
  },
  {
   "cell_type": "code",
   "execution_count": 42,
   "metadata": {},
   "outputs": [
    {
     "name": "stdout",
     "output_type": "stream",
     "text": [
      "the maximum is: 87\n",
      "the minimum is: 3\n",
      "the summation is: 215\n"
     ]
    }
   ],
   "source": [
    "list_a = [3, 4, 6, 10, 39, 87, 12, 54]\n",
    "\n",
    "max_list=max(list_a) \n",
    "min_list=min(list_a)  \n",
    "sum_list=sum(list_a)\n",
    "\n",
    "print(\"the maximum is:\", max_list) \n",
    "print(\"the minimum is:\", min_list) \n",
    "print(\"the summation is:\", sum_list)"
   ]
  },
  {
   "cell_type": "markdown",
   "metadata": {},
   "source": [
    "**part b:**"
   ]
  },
  {
   "cell_type": "code",
   "execution_count": 41,
   "metadata": {},
   "outputs": [
    {
     "name": "stdout",
     "output_type": "stream",
     "text": [
      "sorted in asscending order: [3, 4, 6, 10, 12, 39, 54, 87]\n"
     ]
    }
   ],
   "source": [
    "list_a.sort()\n",
    "print(\"sorted in asscending order:\", list_a)"
   ]
  },
  {
   "cell_type": "markdown",
   "metadata": {},
   "source": [
    "**part c**"
   ]
  },
  {
   "cell_type": "code",
   "execution_count": 43,
   "metadata": {},
   "outputs": [
    {
     "name": "stdout",
     "output_type": "stream",
     "text": [
      "3\n",
      "4\n",
      "6\n",
      "10\n",
      "39\n",
      "87\n",
      "12\n",
      "54\n"
     ]
    }
   ],
   "source": [
    "for element in list_a:\n",
    "    print(element)"
   ]
  },
  {
   "cell_type": "code",
   "execution_count": 24,
   "metadata": {},
   "outputs": [
    {
     "ename": "NameError",
     "evalue": "name 'np' is not defined",
     "output_type": "error",
     "traceback": [
      "\u001b[1;31m---------------------------------------------------------------------------\u001b[0m",
      "\u001b[1;31mNameError\u001b[0m                                 Traceback (most recent call last)",
      "Cell \u001b[1;32mIn[24], line 1\u001b[0m\n\u001b[1;32m----> 1\u001b[0m np\u001b[38;5;241m.\u001b[39mzeros([])\n",
      "\u001b[1;31mNameError\u001b[0m: name 'np' is not defined"
     ]
    }
   ],
   "source": [
    "np.zeros([])"
   ]
  },
  {
   "cell_type": "code",
   "execution_count": 1,
   "metadata": {},
   "outputs": [],
   "source": [
    "import numpy as np"
   ]
  },
  {
   "cell_type": "markdown",
   "metadata": {},
   "source": [
    "**Problem 5**\n",
    "\n",
    "Solve following set of equations using linear algebra and numpy.\n",
    "\n",
    "3a + 4b -5c = 10\n",
    "\n",
    "5b + c = 8\n",
    "\n",
    "a + 3b + 6c = -5\n"
   ]
  },
  {
   "cell_type": "code",
   "execution_count": 45,
   "metadata": {},
   "outputs": [
    {
     "name": "stdout",
     "output_type": "stream",
     "text": [
      "[[-1.7]\n",
      " [ 1.9]\n",
      " [-1.5]]\n"
     ]
    }
   ],
   "source": [
    "import numpy as np \n",
    "\n",
    "A = np.matrix([\n",
    "    [3, 4, -5],\n",
    "    [0, 5, 1],\n",
    "    [1, 3, 6]\n",
    "    ])\n",
    "B = np.matrix([\n",
    "    [10],\n",
    "    [8],\n",
    "    [-5]\n",
    "    ])\n",
    "X = np.dot(np.linalg.inv(A),B)\n",
    "print(X)"
   ]
  }
 ],
 "metadata": {
  "kernelspec": {
   "display_name": "base",
   "language": "python",
   "name": "python3"
  },
  "language_info": {
   "codemirror_mode": {
    "name": "ipython",
    "version": 3
   },
   "file_extension": ".py",
   "mimetype": "text/x-python",
   "name": "python",
   "nbconvert_exporter": "python",
   "pygments_lexer": "ipython3",
   "version": "3.12.7"
  }
 },
 "nbformat": 4,
 "nbformat_minor": 2
}
